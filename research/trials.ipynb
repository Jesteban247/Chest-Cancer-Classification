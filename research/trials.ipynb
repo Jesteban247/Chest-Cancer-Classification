{
 "cells": [
  {
   "cell_type": "code",
   "execution_count": null,
   "metadata": {},
   "outputs": [
    {
     "ename": "",
     "evalue": "",
     "output_type": "error",
     "traceback": [
      "\u001b[1;31mRunning cells with 'Python 3.10.13' requires the ipykernel package.\n",
      "\u001b[1;31mRun the following command to install 'ipykernel' into the Python environment. \n",
      "\u001b[1;31mCommand: '/home/codespace/.python/current/bin/python -m pip install ipykernel -U --user --force-reinstall'"
     ]
    }
   ],
   "source": [
    "!kaggle datasets download -d maedemaftouni/large-covid19-ct-slice-dataset\n"
   ]
  },
  {
   "cell_type": "code",
   "execution_count": 1,
   "metadata": {},
   "outputs": [
    {
     "name": "stdout",
     "output_type": "stream",
     "text": [
      "/workspaces/Chest-Cancer-Classification/research\n"
     ]
    }
   ],
   "source": [
    "!pwd"
   ]
  },
  {
   "cell_type": "code",
   "execution_count": 3,
   "metadata": {},
   "outputs": [],
   "source": [
    "import os\n",
    "os.chdir(\"../\")"
   ]
  },
  {
   "cell_type": "code",
   "execution_count": 4,
   "metadata": {},
   "outputs": [],
   "source": [
    "from dataclasses import dataclass\n",
    "from pathlib import Path\n",
    "\n",
    "# Define a data class to hold configuration details for data ingestion\n",
    "@dataclass(frozen=True)\n",
    "class DataIngestionConfig:\n",
    "    # The root directory where all data ingestion artifacts will be stored\n",
    "    root_dir: Path\n",
    "    \n",
    "    # The URL or identifier of the data source (e.g., a Kaggle dataset URL or identifier)\n",
    "    source_URL: str\n",
    "    \n",
    "    # The local file path where the downloaded data file will be saved\n",
    "    local_data_file: Path\n",
    "    \n",
    "    # The directory where the data file will be unzipped or extracted\n",
    "    unzip_dir: Path\n",
    "\n",
    "    \n"
   ]
  },
  {
   "cell_type": "code",
   "execution_count": 5,
   "metadata": {},
   "outputs": [],
   "source": [
    "from cnnClassifier.constants import *\n",
    "from cnnClassifier.utils.common import read_yaml, create_directories"
   ]
  },
  {
   "cell_type": "code",
   "execution_count": 6,
   "metadata": {},
   "outputs": [],
   "source": [
    "class ConfigurationManager:\n",
    "    def __init__(\n",
    "        self,\n",
    "        config_filepath=CONFIG_FILE_PATH,\n",
    "        params_filepath=PARAMS_FILE_PATH):\n",
    "        \n",
    "        # Initialize the ConfigurationManager with file paths for config and parameters\n",
    "        # Read the configuration and parameters from the specified file paths\n",
    "        self.config = read_yaml(config_filepath)\n",
    "        self.params = read_yaml(params_filepath)\n",
    "        \n",
    "        # Create the root directory specified in the configuration\n",
    "        create_directories([self.config.artifacts_root])\n",
    "    \n",
    "    def get_data_ingestion_config(self) -> DataIngestionConfig:\n",
    "        # Extract the data ingestion configuration from the loaded config\n",
    "        config = self.config.data_ingestion\n",
    "        \n",
    "        # Create the directory specified in the data ingestion config\n",
    "        create_directories([config.root_dir])\n",
    "        \n",
    "        # Create and return a DataIngestionConfig object using the extracted data\n",
    "        data_ingestion_config = DataIngestionConfig(\n",
    "            root_dir=config.root_dir,\n",
    "            source_URL=config.source_URL,\n",
    "            local_data_file=config.local_data_file,\n",
    "            unzip_dir=config.unzip_dir\n",
    "        )\n",
    "        \n",
    "        return data_ingestion_config"
   ]
  },
  {
   "cell_type": "code",
   "execution_count": 7,
   "metadata": {},
   "outputs": [],
   "source": [
    "import os\n",
    "import zipfile\n",
    "from cnnClassifier import logger\n",
    "from cnnClassifier.utils.common import get_size\n",
    "import subprocess"
   ]
  },
  {
   "cell_type": "code",
   "execution_count": 8,
   "metadata": {},
   "outputs": [],
   "source": [
    "class DataIngestion:\n",
    "    def __init__(self, config: DataIngestionConfig):\n",
    "        self.config = config\n",
    "\n",
    "    def download_file(self) -> str:\n",
    "        \"\"\"\n",
    "        Download data from Kaggle using the Kaggle CLI.\n",
    "        \"\"\"\n",
    "        try:\n",
    "            dataset_url = self.config.source_URL\n",
    "            zip_download_dir = self.config.local_data_file\n",
    "            os.makedirs(self.config.root_dir, exist_ok=True)  # Ensure the root directory exists\n",
    "            \n",
    "            logger.info(f\"Downloading data from Kaggle using dataset URL: {dataset_url}\")\n",
    "\n",
    "            # Using subprocess to call the Kaggle CLI command for dataset download\n",
    "            command = f\"kaggle datasets download -d maedemaftouni/large-covid19-ct-slice-dataset -p {self.config.root_dir}\"\n",
    "            subprocess.run(command, shell=True, check=True)\n",
    "\n",
    "            # Move the downloaded file to the specified location\n",
    "            if os.path.exists(zip_download_dir):\n",
    "                logger.info(f\"Downloaded data to {zip_download_dir}\")\n",
    "            else:\n",
    "                raise FileNotFoundError(f\"Failed to download dataset. File not found at {zip_download_dir}\")\n",
    "\n",
    "        except Exception as e:\n",
    "            logger.error(f\"An error occurred while downloading the file: {e}\")\n",
    "            raise e\n",
    "\n",
    "    def extract_zip_file(self):\n",
    "        \"\"\"\n",
    "        Extract the zip file into the data directory.\n",
    "        \"\"\"\n",
    "        unzip_path = self.config.unzip_dir\n",
    "        os.makedirs(unzip_path, exist_ok=True)\n",
    "        \n",
    "        try:\n",
    "            with zipfile.ZipFile(self.config.local_data_file, 'r') as zip_ref:\n",
    "                zip_ref.extractall(unzip_path)\n",
    "            logger.info(f\"Extracted zip file to {unzip_path}\")\n",
    "        except zipfile.BadZipFile as e:\n",
    "            logger.error(f\"Failed to extract zip file: {e}\")\n",
    "            raise e\n",
    "        except FileNotFoundError as e:\n",
    "            logger.error(f\"Zip file not found: {e}\")\n",
    "            raise e\n"
   ]
  },
  {
   "cell_type": "code",
   "execution_count": 9,
   "metadata": {},
   "outputs": [
    {
     "name": "stdout",
     "output_type": "stream",
     "text": [
      "[2024-08-07 21:49:24,520: INFO: common: YAML file: config/config.yaml loaded successfully]\n",
      "[2024-08-07 21:49:24,523: INFO: common: YAML file: params.yaml loaded successfully]\n",
      "[2024-08-07 21:49:24,524: INFO: common: Created directory at: artifacts]\n",
      "[2024-08-07 21:49:24,526: INFO: common: Created directory at: artifacts/data_ingestion]\n",
      "[2024-08-07 21:49:24,526: INFO: 1179144871: Downloading data from Kaggle using dataset URL: kaggle datasets download -d maedemaftouni/large-covid19-ct-slice-dataset]\n",
      "Dataset URL: https://www.kaggle.com/datasets/maedemaftouni/large-covid19-ct-slice-dataset\n",
      "License(s): other\n",
      "Downloading large-covid19-ct-slice-dataset.zip to artifacts/data_ingestion\n"
     ]
    },
    {
     "name": "stderr",
     "output_type": "stream",
     "text": [
      " 98%|█████████▊| 2.02G/2.06G [00:12<00:00, 156MB/s] "
     ]
    },
    {
     "name": "stdout",
     "output_type": "stream",
     "text": [
      "\n",
      "[2024-08-07 21:49:38,780: INFO: 1179144871: Downloaded data to artifacts/data_ingestion/large-covid19-ct-slice-dataset.zip]\n"
     ]
    },
    {
     "name": "stderr",
     "output_type": "stream",
     "text": [
      "100%|██████████| 2.06G/2.06G [00:13<00:00, 168MB/s]\n"
     ]
    },
    {
     "name": "stdout",
     "output_type": "stream",
     "text": [
      "[2024-08-07 21:50:01,481: INFO: 1179144871: Extracted zip file to artifacts/data_ingestion]\n"
     ]
    }
   ],
   "source": [
    "try:\n",
    "    config = ConfigurationManager()\n",
    "    data_ingestion_config = config.get_data_ingestion_config()\n",
    "    data_ingestion = DataIngestion(config=data_ingestion_config)\n",
    "    data_ingestion.download_file()\n",
    "    data_ingestion.extract_zip_file()\n",
    "except Exception as e:\n",
    "    raise e"
   ]
  }
 ],
 "metadata": {
  "kernelspec": {
   "display_name": "Python 3",
   "language": "python",
   "name": "python3"
  },
  "language_info": {
   "codemirror_mode": {
    "name": "ipython",
    "version": 3
   },
   "file_extension": ".py",
   "mimetype": "text/x-python",
   "name": "python",
   "nbconvert_exporter": "python",
   "pygments_lexer": "ipython3",
   "version": "3.10.13"
  }
 },
 "nbformat": 4,
 "nbformat_minor": 2
}
