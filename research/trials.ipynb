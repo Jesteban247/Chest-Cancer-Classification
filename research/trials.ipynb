{
 "cells": [
  {
   "cell_type": "code",
   "execution_count": 4,
   "metadata": {},
   "outputs": [
    {
     "name": "stdout",
     "output_type": "stream",
     "text": [
      "Dataset URL: https://www.kaggle.com/datasets/maedemaftouni/large-covid19-ct-slice-dataset\n",
      "License(s): other\n",
      "Downloading large-covid19-ct-slice-dataset.zip to /workspaces/Chest-Cancer-Classification/research\n",
      "100%|██████████████████████████████████████▊| 2.05G/2.06G [00:24<00:00, 115MB/s]\n",
      "100%|██████████████████████████████████████| 2.06G/2.06G [00:24<00:00, 90.0MB/s]\n"
     ]
    }
   ],
   "source": [
    "!kaggle datasets download -d maedemaftouni/large-covid19-ct-slice-dataset"
   ]
  }
 ],
 "metadata": {
  "kernelspec": {
   "display_name": "Python 3",
   "language": "python",
   "name": "python3"
  },
  "language_info": {
   "codemirror_mode": {
    "name": "ipython",
    "version": 3
   },
   "file_extension": ".py",
   "mimetype": "text/x-python",
   "name": "python",
   "nbconvert_exporter": "python",
   "pygments_lexer": "ipython3",
   "version": "3.10.13"
  }
 },
 "nbformat": 4,
 "nbformat_minor": 2
}
